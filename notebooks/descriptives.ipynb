{
 "cells": [
  {
   "cell_type": "code",
   "execution_count": 19,
   "metadata": {},
   "outputs": [],
   "source": [
    "%matplotlib inline\n",
    "import numpy as np\n",
    "import pandas as pd\n",
    "import geopandas as gpd\n",
    "import seaborn\n",
    "import mapclassify\n",
    "import matplotlib\n",
    "import matplotlib.pyplot as plt\n",
    "import pysal"
   ]
  },
  {
   "cell_type": "code",
   "execution_count": 4,
   "metadata": {},
   "outputs": [
    {
     "data": {
      "text/html": [
       "<div>\n",
       "<style scoped>\n",
       "    .dataframe tbody tr th:only-of-type {\n",
       "        vertical-align: middle;\n",
       "    }\n",
       "\n",
       "    .dataframe tbody tr th {\n",
       "        vertical-align: top;\n",
       "    }\n",
       "\n",
       "    .dataframe thead th {\n",
       "        text-align: right;\n",
       "    }\n",
       "</style>\n",
       "<table border=\"1\" class=\"dataframe\">\n",
       "  <thead>\n",
       "    <tr style=\"text-align: right;\">\n",
       "      <th></th>\n",
       "      <th>labels</th>\n",
       "      <th>n_asian_un</th>\n",
       "      <th>n_black_un</th>\n",
       "      <th>n_hispanic</th>\n",
       "      <th>n_native_u</th>\n",
       "      <th>n_white_un</th>\n",
       "      <th>n_persons_</th>\n",
       "      <th>n_asian_ov</th>\n",
       "      <th>n_black_ov</th>\n",
       "      <th>n_hispan_1</th>\n",
       "      <th>...</th>\n",
       "      <th>p_nonhis_1</th>\n",
       "      <th>p_white__1</th>\n",
       "      <th>p_black__1</th>\n",
       "      <th>p_hispan_3</th>\n",
       "      <th>p_native_1</th>\n",
       "      <th>p_asian__1</th>\n",
       "      <th>p_disabled</th>\n",
       "      <th>node_ids</th>\n",
       "      <th>emp</th>\n",
       "      <th>geometry</th>\n",
       "    </tr>\n",
       "  </thead>\n",
       "  <tbody>\n",
       "    <tr>\n",
       "      <th>0</th>\n",
       "      <td>0</td>\n",
       "      <td>178.0</td>\n",
       "      <td>719.0</td>\n",
       "      <td>9046.0</td>\n",
       "      <td>64.0</td>\n",
       "      <td>2251.0</td>\n",
       "      <td>15585.0</td>\n",
       "      <td>0.0</td>\n",
       "      <td>0.0</td>\n",
       "      <td>0.0</td>\n",
       "      <td>...</td>\n",
       "      <td>358.020119</td>\n",
       "      <td>0.0</td>\n",
       "      <td>0.0</td>\n",
       "      <td>0.0</td>\n",
       "      <td>0.0</td>\n",
       "      <td>0.0</td>\n",
       "      <td>0.0</td>\n",
       "      <td>45988576639</td>\n",
       "      <td>228914.626149</td>\n",
       "      <td>POLYGON ((-117.42426 33.93301, -117.41685 33.9...</td>\n",
       "    </tr>\n",
       "    <tr>\n",
       "      <th>1</th>\n",
       "      <td>1</td>\n",
       "      <td>112.0</td>\n",
       "      <td>14.0</td>\n",
       "      <td>965.0</td>\n",
       "      <td>0.0</td>\n",
       "      <td>750.0</td>\n",
       "      <td>2286.0</td>\n",
       "      <td>0.0</td>\n",
       "      <td>0.0</td>\n",
       "      <td>0.0</td>\n",
       "      <td>...</td>\n",
       "      <td>48.422392</td>\n",
       "      <td>0.0</td>\n",
       "      <td>0.0</td>\n",
       "      <td>0.0</td>\n",
       "      <td>0.0</td>\n",
       "      <td>0.0</td>\n",
       "      <td>0.0</td>\n",
       "      <td>1003322712</td>\n",
       "      <td>11557.042032</td>\n",
       "      <td>POLYGON ((-117.16262 33.52260, -117.16012 33.5...</td>\n",
       "    </tr>\n",
       "    <tr>\n",
       "      <th>2</th>\n",
       "      <td>2</td>\n",
       "      <td>180.0</td>\n",
       "      <td>296.0</td>\n",
       "      <td>1488.0</td>\n",
       "      <td>0.0</td>\n",
       "      <td>371.0</td>\n",
       "      <td>3094.0</td>\n",
       "      <td>0.0</td>\n",
       "      <td>0.0</td>\n",
       "      <td>0.0</td>\n",
       "      <td>...</td>\n",
       "      <td>62.590665</td>\n",
       "      <td>0.0</td>\n",
       "      <td>0.0</td>\n",
       "      <td>0.0</td>\n",
       "      <td>0.0</td>\n",
       "      <td>0.0</td>\n",
       "      <td>0.0</td>\n",
       "      <td>151620780</td>\n",
       "      <td>22510.001451</td>\n",
       "      <td>POLYGON ((-117.17386 34.05897, -117.17383 34.0...</td>\n",
       "    </tr>\n",
       "    <tr>\n",
       "      <th>3</th>\n",
       "      <td>3</td>\n",
       "      <td>75.0</td>\n",
       "      <td>66.0</td>\n",
       "      <td>2407.0</td>\n",
       "      <td>28.0</td>\n",
       "      <td>350.0</td>\n",
       "      <td>3694.0</td>\n",
       "      <td>0.0</td>\n",
       "      <td>0.0</td>\n",
       "      <td>0.0</td>\n",
       "      <td>...</td>\n",
       "      <td>75.303555</td>\n",
       "      <td>0.0</td>\n",
       "      <td>0.0</td>\n",
       "      <td>0.0</td>\n",
       "      <td>0.0</td>\n",
       "      <td>0.0</td>\n",
       "      <td>0.0</td>\n",
       "      <td>6252732647</td>\n",
       "      <td>35417.084029</td>\n",
       "      <td>POLYGON ((-117.71518 33.99044, -117.71511 33.9...</td>\n",
       "    </tr>\n",
       "    <tr>\n",
       "      <th>4</th>\n",
       "      <td>4</td>\n",
       "      <td>522.0</td>\n",
       "      <td>470.0</td>\n",
       "      <td>5005.0</td>\n",
       "      <td>111.0</td>\n",
       "      <td>809.0</td>\n",
       "      <td>8852.0</td>\n",
       "      <td>0.0</td>\n",
       "      <td>0.0</td>\n",
       "      <td>0.0</td>\n",
       "      <td>...</td>\n",
       "      <td>199.178872</td>\n",
       "      <td>0.0</td>\n",
       "      <td>0.0</td>\n",
       "      <td>0.0</td>\n",
       "      <td>0.0</td>\n",
       "      <td>0.0</td>\n",
       "      <td>0.0</td>\n",
       "      <td>27482507725</td>\n",
       "      <td>79940.761948</td>\n",
       "      <td>POLYGON ((-117.67014 34.08738, -117.67012 34.0...</td>\n",
       "    </tr>\n",
       "  </tbody>\n",
       "</table>\n",
       "<p>5 rows × 196 columns</p>\n",
       "</div>"
      ],
      "text/plain": [
       "   labels  n_asian_un  n_black_un  n_hispanic  n_native_u  n_white_un  \\\n",
       "0       0       178.0       719.0      9046.0        64.0      2251.0   \n",
       "1       1       112.0        14.0       965.0         0.0       750.0   \n",
       "2       2       180.0       296.0      1488.0         0.0       371.0   \n",
       "3       3        75.0        66.0      2407.0        28.0       350.0   \n",
       "4       4       522.0       470.0      5005.0       111.0       809.0   \n",
       "\n",
       "   n_persons_  n_asian_ov  n_black_ov  n_hispan_1  ...  p_nonhis_1  \\\n",
       "0     15585.0         0.0         0.0         0.0  ...  358.020119   \n",
       "1      2286.0         0.0         0.0         0.0  ...   48.422392   \n",
       "2      3094.0         0.0         0.0         0.0  ...   62.590665   \n",
       "3      3694.0         0.0         0.0         0.0  ...   75.303555   \n",
       "4      8852.0         0.0         0.0         0.0  ...  199.178872   \n",
       "\n",
       "   p_white__1  p_black__1  p_hispan_3  p_native_1  p_asian__1  p_disabled  \\\n",
       "0         0.0         0.0         0.0         0.0         0.0         0.0   \n",
       "1         0.0         0.0         0.0         0.0         0.0         0.0   \n",
       "2         0.0         0.0         0.0         0.0         0.0         0.0   \n",
       "3         0.0         0.0         0.0         0.0         0.0         0.0   \n",
       "4         0.0         0.0         0.0         0.0         0.0         0.0   \n",
       "\n",
       "      node_ids            emp  \\\n",
       "0  45988576639  228914.626149   \n",
       "1   1003322712   11557.042032   \n",
       "2    151620780   22510.001451   \n",
       "3   6252732647   35417.084029   \n",
       "4  27482507725   79940.761948   \n",
       "\n",
       "                                            geometry  \n",
       "0  POLYGON ((-117.42426 33.93301, -117.41685 33.9...  \n",
       "1  POLYGON ((-117.16262 33.52260, -117.16012 33.5...  \n",
       "2  POLYGON ((-117.17386 34.05897, -117.17383 34.0...  \n",
       "3  POLYGON ((-117.71518 33.99044, -117.71511 33.9...  \n",
       "4  POLYGON ((-117.67014 34.08738, -117.67012 34.0...  \n",
       "\n",
       "[5 rows x 196 columns]"
      ]
     },
     "execution_count": 4,
     "metadata": {},
     "output_type": "execute_result"
    }
   ],
   "source": [
    "rv_df = gpd.read_file('../data/rvcenter_4km1k.shp')\n",
    "rv_df.head()"
   ]
  },
  {
   "cell_type": "code",
   "execution_count": 7,
   "metadata": {},
   "outputs": [
    {
     "data": {
      "text/plain": [
       "(9, 196)"
      ]
     },
     "execution_count": 7,
     "metadata": {},
     "output_type": "execute_result"
    }
   ],
   "source": [
    "rv_df.shape"
   ]
  },
  {
   "cell_type": "code",
   "execution_count": 8,
   "metadata": {},
   "outputs": [
    {
     "data": {
      "text/plain": [
       "<matplotlib.axes._subplots.AxesSubplot at 0x23b52a73f88>"
      ]
     },
     "execution_count": 8,
     "metadata": {},
     "output_type": "execute_result"
    },
    {
     "data": {
      "image/png": "[encoded data removed]",
      "text/plain": [
       "<Figure size 432x288 with 1 Axes>"
      ]
     },
     "metadata": {
      "needs_background": "light"
     },
     "output_type": "display_data"
    }
   ],
   "source": [
    "rv_df.plot()"
   ]
  },
  {
   "cell_type": "code",
   "execution_count": null,
   "metadata": {},
   "outputs": [],
   "source": [
    "shp = ps.examples.get_path('columbus.shp')\n",
    "db = gpd.read_file(shp)\n",
    "db.head()"
   ]
  },
  {
   "cell_type": "code",
   "execution_count": 9,
   "metadata": {},
   "outputs": [
    {
     "data": {
      "text/plain": [
       "<Geographic 2D CRS: EPSG:4326>\n",
       "Name: WGS 84\n",
       "Axis Info [ellipsoidal]:\n",
       "- Lat[north]: Geodetic latitude (degree)\n",
       "- Lon[east]: Geodetic longitude (degree)\n",
       "Area of Use:\n",
       "- name: World\n",
       "- bounds: (-180.0, -90.0, 180.0, 90.0)\n",
       "Datum: World Geodetic System 1984\n",
       "- Ellipsoid: WGS 84\n",
       "- Prime Meridian: Greenwich"
      ]
     },
     "execution_count": 9,
     "metadata": {},
     "output_type": "execute_result"
    }
   ],
   "source": [
    "rv_df.crs"
   ]
  },
  {
   "cell_type": "code",
   "execution_count": 11,
   "metadata": {},
   "outputs": [],
   "source": [
    "rv_df.columns\n",
    "cols = rv_df.columns.tolist()"
   ]
  },
  {
   "cell_type": "code",
   "execution_count": 15,
   "metadata": {},
   "outputs": [
    {
     "name": "stdout",
     "output_type": "stream",
     "text": [
      "['labels', 'n_asian_un', 'n_black_un', 'n_hispanic', 'n_native_u', 'n_white_un', 'n_persons_', 'n_asian_ov', 'n_black_ov', 'n_hispan_1', 'n_native_o', 'n_person_1', 'n_white_ov', 'n_asian__1', 'n_black__1', 'n_hispan_2', 'n_native_1', 'n_white__1', 'n_person_2', 'n_person_3', 'n_civilian', 'n_civili_1', 'n_person_4', 'n_age_5_ol', 'n_asian_ag', 'n_black_ag', 'n_hispan_3', 'n_native_a', 'n_white_ag', 'n_asian_pe', 'n_black_pe', 'n_chinese_', 'n_labor_fo', 'n_civili_2', 'n_edu_coll', 'n_cuban_po', 'n_poverty_', 'n_povert_1', 'n_total_po', 'n_female_o', 'n_povert_2', 'n_povert_3', 'n_disabled', 'n_housing_', 'n_povert_4', 'n_povert_5', 'n_povert_6', 'n_employed', 'n_total_fa', 'n_foreign_', 'n_female_h', 'n_filipino', 'n_female_l', 'n_german_p', 'n_german_b', 'n_househol', 'n_structur', 'n_hawaiian', 'n_total_ho', 'n_asian_ho', 'n_black_ho', 'n_hispan_4', 'n_white_ho', 'median_hou', 'median_inc', 'median_i_1', 'median_i_2', 'median_i_3', 'n_hispan_5', 'n_edu_hs_l', 'n_total__1', 'per_capita', 'n_asian_in', 'n_irish_po', 'n_irish_bo', 'n_italian_', 'n_italia_1', 'n_japanese', 'n_korean_p', 'n_limited_', 'n_employ_1', 'n_married', 'n_mexican_', 'median_hom', 'median_con', 'n_housin_1', 'n_recent_i', 'n_povert_7', 'n_povert_8', 'n_naturali', 'n_povert_9', 'n_povert10', 'n_nonhisp_', 'n_povert11', 'n_nonhis_1', 'n_povert12', 'n_povert13', 'n_native_p', 'n_povert14', 'n_occupied', 'n_other_la', 'n_owner_oc', 'p_recent_i', 'p_househol', 'p_asian_un', 'p_black_un', 'p_hispanic', 'p_native_u', 'p_white_un', 'p_persons_', 'p_structur', 'p_person_1', 'p_asian_ov', 'p_black_ov', 'p_hispan_1', 'p_native_o', 'p_poverty_', 'p_white_ov', 'p_person_2', 'p_povert_1', 'p_asian_pe', 'p_povert_2', 'p_chinese_', 'p_edu_coll', 'p_cuban_po', 'p_foreign_', 'p_female_h', 'p_filipino', 'p_female_l', 'p_povert_3', 'p_german_p', 'p_german_b', 'p_hawaiian', 'p_hispan_2', 'p_povert_4', 'p_edu_hs_l', 'p_asian_in', 'p_irish_po', 'p_irish_bo', 'p_italian_', 'p_italia_1', 'p_japanese', 'p_korean_p', 'p_limited_', 'p_employed', 'p_married', 'p_mexican_', 'p_housing_', 'p_povert_5', 'p_naturali', 'p_nonhisp_', 'p_black_pe', 'p_native_p', 'p_other_la', 'n_total__2', 'p_owner_oc', 'p_povert_6', 'p_puerto_r', 'p_employ_1', 'n_puerto_r', 'n_employ_2', 'p_russian_', 'p_russia_1', 'p_scandana', 'p_scanda_1', 'p_employ_2', 'p_unemploy', 'p_vacant_h', 'p_veterans', 'p_vietname', 'p_widowed_', 'p_povert_7', 'n_renter_o', 'n_russian_', 'n_russia_1', 'n_scandani', 'n_scanda_1', 'n_employ_3', 'n_unemploy', 'n_vacant_h', 'n_veterans', 'n_vietname', 'n_widowed_', 'n_white_pe', 'year', 'n_total__3', 'p_nonhis_1', 'p_white__1', 'p_black__1', 'p_hispan_3', 'p_native_1', 'p_asian__1', 'p_disabled', 'node_ids', 'emp', 'geometry']\n"
     ]
    }
   ],
   "source": [
    "print(cols)"
   ]
  },
  {
   "cell_type": "code",
   "execution_count": 16,
   "metadata": {},
   "outputs": [
    {
     "data": {
      "text/plain": [
       "<matplotlib.axes._subplots.AxesSubplot at 0x23b52b045c8>"
      ]
     },
     "execution_count": 16,
     "metadata": {},
     "output_type": "execute_result"
    },
    {
     "data": {
      "image/png": "[encoded data removed]",
      "text/plain": [
       "<Figure size 432x288 with 1 Axes>"
      ]
     },
     "metadata": {
      "needs_background": "light"
     },
     "output_type": "display_data"
    }
   ],
   "source": [
    "rv_df.plot(column='emp', scheme='fisher_jenks', cmap=plt.matplotlib.cm.Blues)\n",
    "#plt.show()\n",
    "#plt.savefig(fname='inc.png')"
   ]
  },
  {
   "cell_type": "code",
   "execution_count": 22,
   "metadata": {},
   "outputs": [
    {
     "data": {
      "text/plain": [
       "<matplotlib.axes._subplots.AxesSubplot at 0x23b52f7f8c8>"
      ]
     },
     "execution_count": 22,
     "metadata": {},
     "output_type": "execute_result"
    },
    {
     "data": {
      "image/png": "[encoded data removed]",
      "text/plain": [
       "<Figure size 432x288 with 1 Axes>"
      ]
     },
     "metadata": {
      "needs_background": "light"
     },
     "output_type": "display_data"
    }
   ],
   "source": [
    "rv_df[['p_poverty_', 'emp']]\\\n",
    "  .plot.scatter('p_poverty_', \n",
    "                'emp')"
   ]
  },
  {
   "cell_type": "code",
   "execution_count": 23,
   "metadata": {},
   "outputs": [
    {
     "data": {
      "image/png": "[encoded data removed]",
      "text/plain": [
       "<Figure size 864x432 with 2 Axes>"
      ]
     },
     "metadata": {
      "needs_background": "light"
     },
     "output_type": "display_data"
    }
   ],
   "source": [
    "f, axs = plt.subplots(1, 2, figsize=(12, 6))\n",
    "# First axis\n",
    "rv_df['emp'].plot.hist(ax=axs[0])\n",
    "# Second axis\n",
    "rv_df['emp'].plot.kde(ax=axs[1])\n",
    "# Title\n",
    "f.suptitle(\"emp\")\n",
    "# Display\n",
    "plt.show()"
   ]
  },
  {
   "cell_type": "code",
   "execution_count": 24,
   "metadata": {},
   "outputs": [
    {
     "data": {
      "text/plain": [
       "<matplotlib.axes._subplots.AxesSubplot at 0x23b536a2148>"
      ]
     },
     "execution_count": 24,
     "metadata": {},
     "output_type": "execute_result"
    },
    {
     "data": {
      "image/png": "[encoded data removed]",
      "text/plain": [
       "<Figure size 432x288 with 1 Axes>"
      ]
     },
     "metadata": {
      "needs_background": "light"
     },
     "output_type": "display_data"
    }
   ],
   "source": [
    "block_df = gpd.read_file('../data/route/tl_2017_06_tabblock10.shp')\n",
    "block_df.head()\n",
    "riverside_blocks = block_df[block_df['GEOID10'].str.match(\"^06065\")]\n",
    "riverside_blocks.plot()"
   ]
  },
  {
   "cell_type": "code",
   "execution_count": 33,
   "metadata": {},
   "outputs": [],
   "source": [
    "rv1_df = rv_df.to_crs(riverside_blocks.crs)\n",
    "joined = gpd.sjoin(rv1_df, riverside_blocks, how=\"inner\", op='intersects')"
   ]
  },
  {
   "cell_type": "code",
   "execution_count": 34,
   "metadata": {},
   "outputs": [
    {
     "data": {
      "text/html": [
       "<div>\n",
       "<style scoped>\n",
       "    .dataframe tbody tr th:only-of-type {\n",
       "        vertical-align: middle;\n",
       "    }\n",
       "\n",
       "    .dataframe tbody tr th {\n",
       "        vertical-align: top;\n",
       "    }\n",
       "\n",
       "    .dataframe thead th {\n",
       "        text-align: right;\n",
       "    }\n",
       "</style>\n",
       "<table border=\"1\" class=\"dataframe\">\n",
       "  <thead>\n",
       "    <tr style=\"text-align: right;\">\n",
       "      <th></th>\n",
       "      <th>labels</th>\n",
       "      <th>n_asian_un</th>\n",
       "      <th>n_black_un</th>\n",
       "      <th>n_hispanic</th>\n",
       "      <th>n_native_u</th>\n",
       "      <th>n_white_un</th>\n",
       "      <th>n_persons_</th>\n",
       "      <th>n_asian_ov</th>\n",
       "      <th>n_black_ov</th>\n",
       "      <th>n_hispan_1</th>\n",
       "      <th>...</th>\n",
       "      <th>NAME10</th>\n",
       "      <th>MTFCC10</th>\n",
       "      <th>UR10</th>\n",
       "      <th>UACE10</th>\n",
       "      <th>UATYPE</th>\n",
       "      <th>FUNCSTAT10</th>\n",
       "      <th>ALAND10</th>\n",
       "      <th>AWATER10</th>\n",
       "      <th>INTPTLAT10</th>\n",
       "      <th>INTPTLON10</th>\n",
       "    </tr>\n",
       "  </thead>\n",
       "  <tbody>\n",
       "    <tr>\n",
       "      <th>0</th>\n",
       "      <td>0</td>\n",
       "      <td>178.0</td>\n",
       "      <td>719.0</td>\n",
       "      <td>9046.0</td>\n",
       "      <td>64.0</td>\n",
       "      <td>2251.0</td>\n",
       "      <td>15585.0</td>\n",
       "      <td>0.0</td>\n",
       "      <td>0.0</td>\n",
       "      <td>0.0</td>\n",
       "      <td>...</td>\n",
       "      <td>Block 1041</td>\n",
       "      <td>G5040</td>\n",
       "      <td>U</td>\n",
       "      <td>75340</td>\n",
       "      <td>U</td>\n",
       "      <td>S</td>\n",
       "      <td>483544</td>\n",
       "      <td>0</td>\n",
       "      <td>+34.0078304</td>\n",
       "      <td>-117.3863886</td>\n",
       "    </tr>\n",
       "    <tr>\n",
       "      <th>0</th>\n",
       "      <td>0</td>\n",
       "      <td>178.0</td>\n",
       "      <td>719.0</td>\n",
       "      <td>9046.0</td>\n",
       "      <td>64.0</td>\n",
       "      <td>2251.0</td>\n",
       "      <td>15585.0</td>\n",
       "      <td>0.0</td>\n",
       "      <td>0.0</td>\n",
       "      <td>0.0</td>\n",
       "      <td>...</td>\n",
       "      <td>Block 4045</td>\n",
       "      <td>G5040</td>\n",
       "      <td>U</td>\n",
       "      <td>75340</td>\n",
       "      <td>U</td>\n",
       "      <td>S</td>\n",
       "      <td>7029</td>\n",
       "      <td>0</td>\n",
       "      <td>+34.0122112</td>\n",
       "      <td>-117.3432606</td>\n",
       "    </tr>\n",
       "    <tr>\n",
       "      <th>0</th>\n",
       "      <td>0</td>\n",
       "      <td>178.0</td>\n",
       "      <td>719.0</td>\n",
       "      <td>9046.0</td>\n",
       "      <td>64.0</td>\n",
       "      <td>2251.0</td>\n",
       "      <td>15585.0</td>\n",
       "      <td>0.0</td>\n",
       "      <td>0.0</td>\n",
       "      <td>0.0</td>\n",
       "      <td>...</td>\n",
       "      <td>Block 3010</td>\n",
       "      <td>G5040</td>\n",
       "      <td>U</td>\n",
       "      <td>75340</td>\n",
       "      <td>U</td>\n",
       "      <td>S</td>\n",
       "      <td>11414</td>\n",
       "      <td>0</td>\n",
       "      <td>+34.0142465</td>\n",
       "      <td>-117.3436778</td>\n",
       "    </tr>\n",
       "    <tr>\n",
       "      <th>0</th>\n",
       "      <td>0</td>\n",
       "      <td>178.0</td>\n",
       "      <td>719.0</td>\n",
       "      <td>9046.0</td>\n",
       "      <td>64.0</td>\n",
       "      <td>2251.0</td>\n",
       "      <td>15585.0</td>\n",
       "      <td>0.0</td>\n",
       "      <td>0.0</td>\n",
       "      <td>0.0</td>\n",
       "      <td>...</td>\n",
       "      <td>Block 2028</td>\n",
       "      <td>G5040</td>\n",
       "      <td>U</td>\n",
       "      <td>75340</td>\n",
       "      <td>U</td>\n",
       "      <td>S</td>\n",
       "      <td>209851</td>\n",
       "      <td>0</td>\n",
       "      <td>+34.0030057</td>\n",
       "      <td>-117.3370401</td>\n",
       "    </tr>\n",
       "    <tr>\n",
       "      <th>0</th>\n",
       "      <td>0</td>\n",
       "      <td>178.0</td>\n",
       "      <td>719.0</td>\n",
       "      <td>9046.0</td>\n",
       "      <td>64.0</td>\n",
       "      <td>2251.0</td>\n",
       "      <td>15585.0</td>\n",
       "      <td>0.0</td>\n",
       "      <td>0.0</td>\n",
       "      <td>0.0</td>\n",
       "      <td>...</td>\n",
       "      <td>Block 2029</td>\n",
       "      <td>G5040</td>\n",
       "      <td>U</td>\n",
       "      <td>75340</td>\n",
       "      <td>U</td>\n",
       "      <td>S</td>\n",
       "      <td>156108</td>\n",
       "      <td>0</td>\n",
       "      <td>+34.0028138</td>\n",
       "      <td>-117.3420556</td>\n",
       "    </tr>\n",
       "  </tbody>\n",
       "</table>\n",
       "<p>5 rows × 212 columns</p>\n",
       "</div>"
      ],
      "text/plain": [
       "   labels  n_asian_un  n_black_un  n_hispanic  n_native_u  n_white_un  \\\n",
       "0       0       178.0       719.0      9046.0        64.0      2251.0   \n",
       "0       0       178.0       719.0      9046.0        64.0      2251.0   \n",
       "0       0       178.0       719.0      9046.0        64.0      2251.0   \n",
       "0       0       178.0       719.0      9046.0        64.0      2251.0   \n",
       "0       0       178.0       719.0      9046.0        64.0      2251.0   \n",
       "\n",
       "   n_persons_  n_asian_ov  n_black_ov  n_hispan_1  ...      NAME10  MTFCC10  \\\n",
       "0     15585.0         0.0         0.0         0.0  ...  Block 1041    G5040   \n",
       "0     15585.0         0.0         0.0         0.0  ...  Block 4045    G5040   \n",
       "0     15585.0         0.0         0.0         0.0  ...  Block 3010    G5040   \n",
       "0     15585.0         0.0         0.0         0.0  ...  Block 2028    G5040   \n",
       "0     15585.0         0.0         0.0         0.0  ...  Block 2029    G5040   \n",
       "\n",
       "   UR10  UACE10  UATYPE  FUNCSTAT10  ALAND10  AWATER10   INTPTLAT10  \\\n",
       "0     U   75340       U           S   483544         0  +34.0078304   \n",
       "0     U   75340       U           S     7029         0  +34.0122112   \n",
       "0     U   75340       U           S    11414         0  +34.0142465   \n",
       "0     U   75340       U           S   209851         0  +34.0030057   \n",
       "0     U   75340       U           S   156108         0  +34.0028138   \n",
       "\n",
       "     INTPTLON10  \n",
       "0  -117.3863886  \n",
       "0  -117.3432606  \n",
       "0  -117.3436778  \n",
       "0  -117.3370401  \n",
       "0  -117.3420556  \n",
       "\n",
       "[5 rows x 212 columns]"
      ]
     },
     "execution_count": 34,
     "metadata": {},
     "output_type": "execute_result"
    }
   ],
   "source": [
    "joined.head()"
   ]
  },
  {
   "cell_type": "code",
   "execution_count": 35,
   "metadata": {},
   "outputs": [
    {
     "data": {
      "text/plain": [
       "<matplotlib.axes._subplots.AxesSubplot at 0x23b5b8ecc48>"
      ]
     },
     "execution_count": 35,
     "metadata": {},
     "output_type": "execute_result"
    },
    {
     "data": {
      "image/png": "[encoded data removed]",
      "text/plain": [
       "<Figure size 432x288 with 1 Axes>"
      ]
     },
     "metadata": {
      "needs_background": "light"
     },
     "output_type": "display_data"
    }
   ],
   "source": [
    "joined.plot()"
   ]
  },
  {
   "cell_type": "code",
   "execution_count": 36,
   "metadata": {},
   "outputs": [
    {
     "data": {
      "text/plain": [
       "(1755, 212)"
      ]
     },
     "execution_count": 36,
     "metadata": {},
     "output_type": "execute_result"
    }
   ],
   "source": [
    "joined.shape"
   ]
  },
  {
   "cell_type": "code",
   "execution_count": null,
   "metadata": {},
   "outputs": [],
   "source": []
  }
 ],
 "metadata": {
  "kernelspec": {
   "display_name": "Python 3",
   "language": "python",
   "name": "python3"
  },
  "language_info": {
   "codemirror_mode": {
    "name": "ipython",
    "version": 3
   },
   "file_extension": ".py",
   "mimetype": "text/x-python",
   "name": "python",
   "nbconvert_exporter": "python",
   "pygments_lexer": "ipython3",
   "version": "3.7.6"
  }
 },
 "nbformat": 4,
 "nbformat_minor": 4
}
